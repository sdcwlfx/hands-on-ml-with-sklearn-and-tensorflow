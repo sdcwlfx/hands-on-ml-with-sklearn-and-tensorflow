{
 "cells": [
  {
   "cell_type": "code",
   "execution_count": 2,
   "metadata": {},
   "outputs": [
    {
     "data": {
      "text/plain": [
       "{'DESCR': 'mldata.org dataset: mnist-original',\n",
       " 'COL_NAMES': ['label', 'data'],\n",
       " 'target': array([0., 0., 0., ..., 9., 9., 9.]),\n",
       " 'data': array([[0, 0, 0, ..., 0, 0, 0],\n",
       "        [0, 0, 0, ..., 0, 0, 0],\n",
       "        [0, 0, 0, ..., 0, 0, 0],\n",
       "        ...,\n",
       "        [0, 0, 0, ..., 0, 0, 0],\n",
       "        [0, 0, 0, ..., 0, 0, 0],\n",
       "        [0, 0, 0, ..., 0, 0, 0]], dtype=uint8)}"
      ]
     },
     "execution_count": 2,
     "metadata": {},
     "output_type": "execute_result"
    }
   ],
   "source": [
    "from sklearn.datasets import fetch_mldata\n",
    "\n",
    "mnist=fetch_mldata('MNIST original',data_home='./datasets')\n",
    "mnist"
   ]
  },
  {
   "cell_type": "markdown",
   "metadata": {},
   "source": [
    "https://blog.csdn.net/weixin_30326745/article/details/101083201   ->解决MNIST数据集无法获取问题  \n",
    "data:存放一个数组，一行(长784)表示一个样例(即一个数字)，一列(高70000)表示一个特征  \n",
    "target:标签，共70000个  \n",
    "mnist数据集中：70000个数字，每个数字大小为784(28*28个像素)特征"
   ]
  },
  {
   "cell_type": "code",
   "execution_count": 3,
   "metadata": {},
   "outputs": [],
   "source": [
    "X,y=mnist[\"data\"],mnist[\"target\"]"
   ]
  },
  {
   "cell_type": "code",
   "execution_count": 4,
   "metadata": {},
   "outputs": [
    {
     "data": {
      "text/plain": [
       "(70000, 784)"
      ]
     },
     "execution_count": 4,
     "metadata": {},
     "output_type": "execute_result"
    }
   ],
   "source": [
    "X.shape"
   ]
  },
  {
   "cell_type": "code",
   "execution_count": 5,
   "metadata": {},
   "outputs": [
    {
     "data": {
      "text/plain": [
       "(70000,)"
      ]
     },
     "execution_count": 5,
     "metadata": {},
     "output_type": "execute_result"
    }
   ],
   "source": [
    "y.shape"
   ]
  },
  {
   "cell_type": "code",
   "execution_count": 6,
   "metadata": {},
   "outputs": [
    {
     "data": {
      "image/png": "[encoded data removed]",
      "text/plain": [
       "<Figure size 432x288 with 1 Axes>"
      ]
     },
     "metadata": {
      "needs_background": "light"
     },
     "output_type": "display_data"
    }
   ],
   "source": [
    "%matplotlib inline\n",
    "import matplotlib\n",
    "import matplotlib.pyplot as plt\n",
    "some_digit=X[36000]#选第36000个数字的特征向量\n",
    "some_digit_image=some_digit.reshape(28,28)\n",
    "plt.imshow(some_digit_image,cmap=matplotlib.cm.binary,interpolation=\"nearest\")\n",
    "plt.axis(\"off\") #不显示坐标轴\n",
    "plt.show()"
   ]
  },
  {
   "cell_type": "code",
   "execution_count": 7,
   "metadata": {},
   "outputs": [
    {
     "data": {
      "text/plain": [
       "5.0"
      ]
     },
     "execution_count": 7,
     "metadata": {},
     "output_type": "execute_result"
    }
   ],
   "source": [
    "y[36000]"
   ]
  },
  {
   "cell_type": "code",
   "execution_count": 8,
   "metadata": {},
   "outputs": [],
   "source": [
    "#划分训练集和测试集\n",
    "X_train,X_test,y_train,y_test=X[:60000],X[60000:],y[:60000],y[60000:]"
   ]
  },
  {
   "cell_type": "code",
   "execution_count": 9,
   "metadata": {},
   "outputs": [],
   "source": [
    "import numpy as np\n",
    "\n",
    "#打乱数据集，保证交叉验证的每一折都是相似的\n",
    "shuffle_index=np.random.permutation(60000)\n",
    "X_train,y_train=X_train[shuffle_index],y_train[shuffle_index]\n"
   ]
  },
  {
   "cell_type": "markdown",
   "metadata": {},
   "source": [
    "# 训练一个二分类"
   ]
  },
  {
   "cell_type": "code",
   "execution_count": 10,
   "metadata": {},
   "outputs": [],
   "source": [
    "#两个类别：“5”和“非5”\n",
    "y_train_5=(y_train==5) #True、False数组\n",
    "y_test_5=(y_test==5)"
   ]
  },
  {
   "cell_type": "markdown",
   "metadata": {},
   "source": [
    "分类器：随机梯度下降SGD,能高效的处理非常大的数据集，因为SGD一次只处理一条数据"
   ]
  },
  {
   "cell_type": "code",
   "execution_count": 11,
   "metadata": {},
   "outputs": [
    {
     "data": {
      "text/plain": [
       "SGDClassifier(alpha=0.0001, average=False, class_weight=None, epsilon=0.1,\n",
       "       eta0=0.0, fit_intercept=True, l1_ratio=0.15,\n",
       "       learning_rate='optimal', loss='hinge', max_iter=5, n_iter=None,\n",
       "       n_jobs=1, penalty='l2', power_t=0.5, random_state=42, shuffle=True,\n",
       "       tol=None, verbose=0, warm_start=False)"
      ]
     },
     "execution_count": 11,
     "metadata": {},
     "output_type": "execute_result"
    }
   ],
   "source": [
    "from sklearn.linear_model import SGDClassifier\n",
    "#SGD依赖于训练集的随机程度，若想重现结果，应该固定参数random_state,最大迭代次数5\n",
    "sgd_clf=SGDClassifier(max_iter=5,random_state=42)\n",
    "sgd_clf.fit(X_train,y_train_5)#拟合模型"
   ]
  },
  {
   "cell_type": "code",
   "execution_count": 12,
   "metadata": {},
   "outputs": [
    {
     "data": {
      "text/plain": [
       "array([ True])"
      ]
     },
     "execution_count": 12,
     "metadata": {},
     "output_type": "execute_result"
    }
   ],
   "source": [
    "#分类some_digit的值（5）\n",
    "sgd_clf.predict([some_digit])"
   ]
  },
  {
   "cell_type": "markdown",
   "metadata": {},
   "source": [
    "猜对啦！！"
   ]
  },
  {
   "cell_type": "markdown",
   "metadata": {},
   "source": [
    "# 分类器性能评估"
   ]
  },
  {
   "cell_type": "raw",
   "metadata": {},
   "source": [
    "    1. 交叉验证测量准确性  \n",
    "    2. 混淆矩阵  \n",
    "    3. 准确率与召回率  \n",
    "    4. ROC曲线  "
   ]
  },
  {
   "cell_type": "code",
   "execution_count": 13,
   "metadata": {},
   "outputs": [
    {
     "name": "stdout",
     "output_type": "stream",
     "text": [
      "0.96445\n",
      "0.95605\n",
      "0.95845\n"
     ]
    }
   ],
   "source": [
    "#实现交叉验证\n",
    "from sklearn.model_selection import StratifiedKFold\n",
    "from sklearn.base import clone\n",
    "\n",
    "skfolds=StratifiedKFold(n_splits=3,random_state=42) #分层抽样\n",
    "for train_index,test_index in skfolds.split(X_train,y_train_5):\n",
    "    clone_clf=clone(sgd_clf)\n",
    "    X_train_folds=X_train[train_index]\n",
    "    y_train_folds=y_train_5[train_index]\n",
    "    \n",
    "    X_test_fold=X_train[test_index]\n",
    "    y_test_fold=y_train_5[test_index]\n",
    "    \n",
    "    clone_clf.fit(X_train_folds,y_train_folds)#拟合\n",
    "    y_pred=clone_clf.predict(X_test_fold)\n",
    "    n_correct=sum(y_pred==y_test_fold)\n",
    "    print(n_correct/len(y_pred))"
   ]
  },
  {
   "cell_type": "code",
   "execution_count": 14,
   "metadata": {},
   "outputs": [
    {
     "data": {
      "text/plain": [
       "array([0.96445, 0.95605, 0.95845])"
      ]
     },
     "execution_count": 14,
     "metadata": {},
     "output_type": "execute_result"
    }
   ],
   "source": [
    "#使用cross_val_score()评估SGD模型，同时使用K折交叉验证\n",
    "from sklearn.model_selection import cross_val_score\n",
    "cross_val_score(sgd_clf,X_train,y_train_5,cv=3,scoring=\"accuracy\")"
   ]
  },
  {
   "cell_type": "code",
   "execution_count": 15,
   "metadata": {},
   "outputs": [
    {
     "data": {
      "text/plain": [
       "array([0.911  , 0.9084 , 0.90955])"
      ]
     },
     "execution_count": 15,
     "metadata": {},
     "output_type": "execute_result"
    }
   ],
   "source": [
    "#实现非常笨的分类器，看其在“非5”上的表现\n",
    "from sklearn.base import BaseEstimator\n",
    "class Never5Classifier(BaseEstimator):\n",
    "    def fit(self,X,y=None):\n",
    "        pass\n",
    "    def predict(self,X):\n",
    "        return np.zeros((len(X),1),dtype=bool)\n",
    "never_5_clf=Never5Classifier()\n",
    "cross_val_score(never_5_clf,X_train,y_train_5,cv=3,scoring=\"accuracy\")"
   ]
  },
  {
   "cell_type": "raw",
   "metadata": {},
   "source": [
    "K折交叉验证：把训练集分成K折，然后对其中一折进行预测，对其他折进行训练  \n",
    "虽然交叉验证上有大于95%的精度，但由于训练集中只有10%的图片是数字5，所以总是猜测某张图片不是5，也会有90%的可能性是对的，  \n",
    "所以，精度通常不是一个好的性能度量指标，特别是当处理有偏差的数据集，比如：其中一些类比其他类频繁的多"
   ]
  },
  {
   "cell_type": "raw",
   "metadata": {},
   "source": [
    "混淆矩阵：对分类器来讲，比较好的性能评估指标是混淆矩阵。  \n",
    "思路：输出类别A被分类成类别B的次数。  \n",
    "例如：为了知道分类器将5误分成3的次数，需要查看混淆矩阵的第五行第三列的值"
   ]
  },
  {
   "cell_type": "code",
   "execution_count": 16,
   "metadata": {},
   "outputs": [],
   "source": [
    "#计算混淆矩阵\n",
    "from sklearn.model_selection import cross_val_predict\n",
    "y_train_pred=cross_val_predict(sgd_clf,X_train,y_train_5,cv=3) #预测值"
   ]
  },
  {
   "cell_type": "markdown",
   "metadata": {},
   "source": [
    "cross_val_predict()函数使用K折交叉验证，返回基于每个测试折作出的一个预测值"
   ]
  },
  {
   "cell_type": "code",
   "execution_count": 17,
   "metadata": {},
   "outputs": [
    {
     "data": {
      "text/plain": [
       "array([[53286,  1293],\n",
       "       [ 1128,  4293]], dtype=int64)"
      ]
     },
     "execution_count": 17,
     "metadata": {},
     "output_type": "execute_result"
    }
   ],
   "source": [
    "#预测值与实际标签得到混淆矩阵\n",
    "from sklearn.metrics import confusion_matrix\n",
    "confusion_matrix(y_train_5,y_train_pred)"
   ]
  },
  {
   "cell_type": "markdown",
   "metadata": {},
   "source": [
    "混淆矩阵中的每一行表示一个实际的类, 而每一列表示一个预测的类。该矩阵的第一行认为“非 5”（反例）中的 53286 张被正确归类为 “非 5”（他们被称为真反例，true negatives）, 而其余 1293 被错误归类为\"是 5\" （假正例，false positives）。第二行认为“是 5” （正例）中的 1128 被错误地归类为“非 5”（假反例，false negatives），其余 4293 正确分类为 “是 5”类（真正例，true positives）。  "
   ]
  },
  {
   "cell_type": "code",
   "execution_count": 19,
   "metadata": {},
   "outputs": [
    {
     "data": {
      "text/plain": [
       "array([[54579,     0],\n",
       "       [    0,  5421]], dtype=int64)"
      ]
     },
     "execution_count": 19,
     "metadata": {},
     "output_type": "execute_result"
    }
   ],
   "source": [
    "y_train_perfect_predictions=y_train_5\n",
    "confusion_matrix(y_train_5,y_train_perfect_predictions)"
   ]
  },
  {
   "cell_type": "markdown",
   "metadata": {},
   "source": [
    "一个完美的分类器将只有真反例和真正例，所以混淆矩阵的非零值仅在 其主对角线（左上至右下）"
   ]
  },
  {
   "cell_type": "code",
   "execution_count": 20,
   "metadata": {},
   "outputs": [
    {
     "data": {
      "text/plain": [
       "0.7685284640171858"
      ]
     },
     "execution_count": 20,
     "metadata": {},
     "output_type": "execute_result"
    }
   ],
   "source": [
    "#实际标签与预测标签计算准确率\n",
    "from sklearn.metrics import precision_score,recall_score\n",
    "precision_score(y_train_5,y_train_pred) #准确率"
   ]
  },
  {
   "cell_type": "code",
   "execution_count": 21,
   "metadata": {},
   "outputs": [
    {
     "data": {
      "text/plain": [
       "0.7685284640171858"
      ]
     },
     "execution_count": 21,
     "metadata": {},
     "output_type": "execute_result"
    }
   ],
   "source": [
    "4293/(4293+1293) #真正例/(真正例+假正例)"
   ]
  },
  {
   "cell_type": "code",
   "execution_count": 22,
   "metadata": {},
   "outputs": [
    {
     "data": {
      "text/plain": [
       "0.7919203099059214"
      ]
     },
     "execution_count": 22,
     "metadata": {},
     "output_type": "execute_result"
    }
   ],
   "source": [
    "#实际标签与预测标签计算召回率\n",
    "recall_score(y_train_5,y_train_pred) #召回率"
   ]
  },
  {
   "cell_type": "code",
   "execution_count": 23,
   "metadata": {},
   "outputs": [
    {
     "data": {
      "text/plain": [
       "0.7919203099059214"
      ]
     },
     "execution_count": 23,
     "metadata": {},
     "output_type": "execute_result"
    }
   ],
   "source": [
    "4293/(4293+1128) #真正例/(真正例+假反例)"
   ]
  },
  {
   "cell_type": "code",
   "execution_count": 24,
   "metadata": {},
   "outputs": [
    {
     "data": {
      "text/plain": [
       "0.7800490596892885"
      ]
     },
     "execution_count": 24,
     "metadata": {},
     "output_type": "execute_result"
    }
   ],
   "source": [
    "#计算F1值\n",
    "from sklearn.metrics import f1_score\n",
    "f1_score(y_train_5,y_train_pred)"
   ]
  },
  {
   "cell_type": "markdown",
   "metadata": {},
   "source": [
    "F1值是准确率和召回率的调和平均，普通的平均值平等的看待所有的值，而调和平均会给更小的值更大的权重，  \n",
    "故，若想得到大的F1值，需要准确率和召回率同时高。"
   ]
  },
  {
   "cell_type": "markdown",
   "metadata": {},
   "source": [
    "# 准确率/召回率之间的折衷"
   ]
  },
  {
   "cell_type": "markdown",
   "metadata": {},
   "source": [
    "SGDClassifier分类决策:对于每个样例，根据决策函数计算分数，如果决策分数大于一个阈值，则将样例分配给正例，否则分配给反例。  \n",
    "sklearn不让直接设置阈值，提供了设置决策分数的方法，调用decision_function()方法，该方法返回每一个样例的分数值，然后基于这个分数值，  \n",
    "使用任何想要的阈值作出预测。"
   ]
  },
  {
   "cell_type": "code",
   "execution_count": 25,
   "metadata": {},
   "outputs": [
    {
     "data": {
      "text/plain": [
       "array([137305.06665008])"
      ]
     },
     "execution_count": 25,
     "metadata": {},
     "output_type": "execute_result"
    }
   ],
   "source": [
    "#每个样例的决策分数\n",
    "y_scores=sgd_clf.decision_function([some_digit])\n",
    "y_scores"
   ]
  },
  {
   "cell_type": "code",
   "execution_count": 26,
   "metadata": {},
   "outputs": [
    {
     "data": {
      "text/plain": [
       "array([ True])"
      ]
     },
     "execution_count": 26,
     "metadata": {},
     "output_type": "execute_result"
    }
   ],
   "source": [
    "#设置阈值\n",
    "threshold=0\n",
    "y_some_digit_pred=(y_scores>threshold)\n",
    "y_some_digit_pred #预测结果"
   ]
  },
  {
   "cell_type": "code",
   "execution_count": 27,
   "metadata": {},
   "outputs": [
    {
     "data": {
      "text/plain": [
       "array([False])"
      ]
     },
     "execution_count": 27,
     "metadata": {},
     "output_type": "execute_result"
    }
   ],
   "source": [
    "#提高阈值\n",
    "threshold=2000000\n",
    "y_some_digit_pred=(y_scores>threshold)\n",
    "y_some_digit_pred #预测结果"
   ]
  },
  {
   "cell_type": "markdown",
   "metadata": {},
   "source": [
    "提高阈值会增大准确率，降低召回率！！"
   ]
  },
  {
   "cell_type": "code",
   "execution_count": 28,
   "metadata": {},
   "outputs": [],
   "source": [
    "#计算返回每个样例的决策分数\n",
    "y_scores=cross_val_predict(sgd_clf,X_train,y_train_5,cv=3,method=\"decision_function\")"
   ]
  },
  {
   "cell_type": "code",
   "execution_count": 29,
   "metadata": {},
   "outputs": [],
   "source": [
    "#利用标签和对应决策分数返回任何可能阈值的准确率、召回率\n",
    "from sklearn.metrics import precision_recall_curve\n",
    "\n",
    "precisions,recalls,thresholds=precision_recall_curve(y_train_5,y_scores)"
   ]
  },
  {
   "cell_type": "code",
   "execution_count": 32,
   "metadata": {},
   "outputs": [
    {
     "data": {
      "image/png": "[encoded data removed]",
      "text/plain": [
       "<Figure size 432x288 with 1 Axes>"
      ]
     },
     "metadata": {
      "needs_background": "light"
     },
     "output_type": "display_data"
    }
   ],
   "source": [
    "#以阈值为横轴画出准确率和召回率曲线\n",
    "def plot_precision_recall_vs_threshold(precisions,recalls,thresholds):\n",
    "    plt.plot(thresholds,precisions[:-1],\"b--\",label=\"Precision\")\n",
    "    plt.plot(thresholds,recalls[:-1],\"g--\",label=\"Recall\")\n",
    "    plt.xlabel(\"Threshold\") #X轴\n",
    "    plt.legend(loc=\"upper left\")\n",
    "    plt.ylim([0,1])\n",
    "plot_precision_recall_vs_threshold(precisions,recalls,thresholds)\n",
    "plt.show()"
   ]
  },
  {
   "cell_type": "markdown",
   "metadata": {},
   "source": [
    "准确率曲线比召回率曲线更加起伏不平的原因：准确率有时会降低，尽管提高阈值的时候，通常来讲准确率会随之提高，   \n",
    "而当阈值提高的时候，召回率只会降低。  \n",
    "另一个选出好的准确率/召回率折衷的方法是直接画出准确率对召回率的曲线"
   ]
  },
  {
   "cell_type": "code",
   "execution_count": 33,
   "metadata": {},
   "outputs": [
    {
     "data": {
      "image/png": "[encoded data removed]",
      "text/plain": [
       "<Figure size 432x288 with 1 Axes>"
      ]
     },
     "metadata": {
      "needs_background": "light"
     },
     "output_type": "display_data"
    }
   ],
   "source": [
    "#准确率/召回率曲线\n",
    "def plot_precision_recall(precisions,recalls):\n",
    "    plt.plot(recalls,precisions,\"b-\") #‘-’表实线，'--'表虚线\n",
    "    plt.axis([0,1,0,1])\n",
    "    plt.xlabel(\"recalls\")\n",
    "    plt.ylabel(\"precisions\")\n",
    "plot_precision_recall(precisions,recalls)\n",
    "plt.show()"
   ]
  },
  {
   "cell_type": "markdown",
   "metadata": {},
   "source": [
    "准确率/召回率曲线应尽可能靠近右上角，适合正例很少，或者关注假正例对于假反例的情况。"
   ]
  },
  {
   "cell_type": "markdown",
   "metadata": {},
   "source": [
    "# ROC曲线"
   ]
  },
  {
   "cell_type": "markdown",
   "metadata": {},
   "source": [
    "ROC曲线是一种二分类器常用工具，是真正例率(TPR,即召回率)对假正例率(FRP)的曲线。  \n",
    "FPR是反例被错误分成正例的比率（分成正例的反例/实际总反例数）"
   ]
  },
  {
   "cell_type": "code",
   "execution_count": 34,
   "metadata": {},
   "outputs": [],
   "source": [
    "#计算不同阈值下的TPR、FPR\n",
    "from sklearn.metrics import roc_curve\n",
    "fpr,tpr,thresholds=roc_curve(y_train_5,y_scores)"
   ]
  },
  {
   "cell_type": "code",
   "execution_count": 35,
   "metadata": {},
   "outputs": [
    {
     "data": {
      "image/png": "[encoded data removed]",
      "text/plain": [
       "<Figure size 432x288 with 1 Axes>"
      ]
     },
     "metadata": {
      "needs_background": "light"
     },
     "output_type": "display_data"
    }
   ],
   "source": [
    "#画出FPR对TPR的曲线\n",
    "def plot_fpr_tpr(fpr,tpr,label=None):\n",
    "    plt.plot(fpr,tpr,linewidth=2,label=label)\n",
    "    plt.plot([0,1],[0,1],\"k--\")#随机分类器的ROC曲线\n",
    "    plt.axis([0,1,0,1])\n",
    "    plt.xlabel(\"False Positive Rate\")\n",
    "    plt.ylabel(\"True Positive Rate\")\n",
    "plot_fpr_tpr(fpr,tpr)\n",
    "plt.show()"
   ]
  },
  {
   "cell_type": "markdown",
   "metadata": {},
   "source": [
    "召回率（TPR）越高，分类器机会产生越多的假正例（FPR），从左上角至右上角的点线是一个完全随机的分类器产生的ROC曲线；  \n",
    "一个好的分类器的ROC曲线应该尽可能远离这条点线(即向左上角方向靠拢)。"
   ]
  },
  {
   "cell_type": "code",
   "execution_count": 36,
   "metadata": {},
   "outputs": [
    {
     "data": {
      "text/plain": [
       "0.9629212569718189"
      ]
     },
     "execution_count": 36,
     "metadata": {},
     "output_type": "execute_result"
    }
   ],
   "source": [
    "#测量ROC曲线下的面积（AUC）\n",
    "from sklearn.metrics import roc_auc_score\n",
    "roc_auc_score(y_train_5,y_scores)"
   ]
  },
  {
   "cell_type": "markdown",
   "metadata": {},
   "source": [
    "比较分类器之间优劣的方法：ROC曲线下的面积。  \n",
    "完美的分类器的ROC AUC等于1"
   ]
  },
  {
   "cell_type": "code",
   "execution_count": 37,
   "metadata": {},
   "outputs": [
    {
     "name": "stderr",
     "output_type": "stream",
     "text": [
      "E:\\Anaconda3\\lib\\site-packages\\sklearn\\ensemble\\weight_boosting.py:29: DeprecationWarning: numpy.core.umath_tests is an internal NumPy module and should not be imported. It will be removed in a future NumPy release.\n",
      "  from numpy.core.umath_tests import inner1d\n"
     ]
    }
   ],
   "source": [
    "#训练一个随机森林分类器\n",
    "from sklearn.ensemble import RandomForestClassifier\n",
    "forest_clf=RandomForestClassifier(random_state=42)\n",
    "y_probas_forest=cross_val_predict(forest_clf,X_train,y_train_5,cv=3,\n",
    "                                 method=\"predict_proba\")"
   ]
  },
  {
   "cell_type": "markdown",
   "metadata": {},
   "source": [
    "predict_proba()方法返回一个数组，数组的每行代表一个样例，每列代表一个类别，  \n",
    "数组中的值的含义：一个样例属于给定类别的概率。"
   ]
  },
  {
   "cell_type": "code",
   "execution_count": 38,
   "metadata": {},
   "outputs": [
    {
     "data": {
      "image/png": "[encoded data removed]",
      "text/plain": [
       "<Figure size 432x288 with 1 Axes>"
      ]
     },
     "metadata": {
      "needs_background": "light"
     },
     "output_type": "display_data"
    }
   ],
   "source": [
    "#使用正例的概率当做样例的分数画出ROC曲线\n",
    "y_scores_forest=y_probas_forest[:,1] #选择数组的第一列的所有值(即所有样本是正例的概率)\n",
    "fpr_forest,tpr_forest,thresholds_forest=roc_curve(y_train_5,y_scores_forest)\n",
    "plt.plot(fpr,tpr,\"b:\",label=\"SGD\") #点线\n",
    "plt.plot(fpr_forest,tpr_forest,\"b-\",label=\"Random Forest\") #实线\n",
    "plt.plot([0,1],[0,1],\"g--\") #虚线\n",
    "plt.axis([0,1,0,1])\n",
    "plt.legend(loc=\"lower right\")\n",
    "plt.show()"
   ]
  },
  {
   "cell_type": "markdown",
   "metadata": {},
   "source": [
    "随机森林分类器的ROC曲线比SGD分类器的ROC好,更远绿色离虚线。"
   ]
  },
  {
   "cell_type": "code",
   "execution_count": 39,
   "metadata": {},
   "outputs": [
    {
     "data": {
      "text/plain": [
       "0.9933781906566126"
      ]
     },
     "execution_count": 39,
     "metadata": {},
     "output_type": "execute_result"
    }
   ],
   "source": [
    "#随机森林ROC AUC\n",
    "roc_auc_score(y_train_5,y_scores_forest)"
   ]
  },
  {
   "cell_type": "markdown",
   "metadata": {},
   "source": [
    "## 训练一个二分类器：选择合适的标准，使用交叉验证去评估分类器，选择满足需要的准确率/召回率折衷方案，和比较不同模型的ROC曲线和ROC AUC"
   ]
  },
  {
   "cell_type": "markdown",
   "metadata": {},
   "source": [
    "# 多类分类"
   ]
  },
  {
   "cell_type": "markdown",
   "metadata": {},
   "source": [
    "一些算法如随机森林分类器或者朴素贝叶斯分类器可以直接处理多类分类问题，其他一些分类器如SVM分类器或者线性分类器则是严格的二分类器，  \n",
    "二分类器去执行多类分类：  \n",
    "1. OvA:对于K个类别的分类任务，创建K个二分类器，对每个类别执行二分类任务  \n",
    "2. OvO:对每一对类别都训练一个二分类器，如K个类别，需要训练K*(K-1)/2个分类器。适用于在训练集的大小上很难扩展的算法，如SVM"
   ]
  },
  {
   "cell_type": "code",
   "execution_count": 40,
   "metadata": {},
   "outputs": [
    {
     "data": {
      "text/plain": [
       "array([5.])"
      ]
     },
     "execution_count": 40,
     "metadata": {},
     "output_type": "execute_result"
    }
   ],
   "source": [
    "#sklearn可以探测出想用一个二分类器去完成多分类任务，会自动执行OvA（SVM分类器会使用OVO）\n",
    "sgd_clf.fit(X_train,y_train) #二分类器SGD算法执行多分类任务\n",
    "sgd_clf.predict([some_digit])"
   ]
  },
  {
   "cell_type": "markdown",
   "metadata": {},
   "source": [
    "幕后sklearn实际训练了10个二分类器，每个分类器都产生一张图片的决策数值，选择数值最高的那个类"
   ]
  },
  {
   "cell_type": "code",
   "execution_count": 41,
   "metadata": {},
   "outputs": [
    {
     "data": {
      "text/plain": [
       "array([[-148129.61680732, -420862.1424048 , -412148.08356414,\n",
       "         -40450.25288928, -619220.40379714,  137305.06665008,\n",
       "        -607269.09780885, -379376.93239726, -688015.53172112,\n",
       "        -653905.5088476 ]])"
      ]
     },
     "execution_count": 41,
     "metadata": {},
     "output_type": "execute_result"
    }
   ],
   "source": [
    "#返回10个分类器对图片的决策分数\n",
    "some_digit_scores=sgd_clf.decision_function([some_digit])\n",
    "some_digit_scores"
   ]
  },
  {
   "cell_type": "markdown",
   "metadata": {},
   "source": [
    "最高数值对应类别5"
   ]
  },
  {
   "cell_type": "code",
   "execution_count": 42,
   "metadata": {},
   "outputs": [
    {
     "data": {
      "text/plain": [
       "array([5.])"
      ]
     },
     "execution_count": 42,
     "metadata": {},
     "output_type": "execute_result"
    }
   ],
   "source": [
    "#强制sklearn使用OvO策略或者OvA策略，使用OneVsOneClassifier或者OneVsRestClassifier\n",
    "#将一个二分类器传递给构造函数\n",
    "from sklearn.multiclass import OneVsOneClassifier\n",
    "ovo_clf=OneVsOneClassifier(SGDClassifier(random_state=42,max_iter=5)) #强制二分类执行OvO策略\n",
    "ovo_clf.fit(X_train,y_train) #拟合\n",
    "ovo_clf.predict([some_digit])"
   ]
  },
  {
   "cell_type": "code",
   "execution_count": 43,
   "metadata": {},
   "outputs": [
    {
     "data": {
      "text/plain": [
       "45"
      ]
     },
     "execution_count": 43,
     "metadata": {},
     "output_type": "execute_result"
    }
   ],
   "source": [
    "len(ovo_clf.estimators_)"
   ]
  },
  {
   "cell_type": "code",
   "execution_count": 44,
   "metadata": {},
   "outputs": [
    {
     "data": {
      "text/plain": [
       "array([5.])"
      ]
     },
     "execution_count": 44,
     "metadata": {},
     "output_type": "execute_result"
    }
   ],
   "source": [
    "#训练一个随机森林分类器\n",
    "forest_clf.fit(X_train,y_train)\n",
    "forest_clf.predict([some_digit])"
   ]
  },
  {
   "cell_type": "code",
   "execution_count": 45,
   "metadata": {},
   "outputs": [
    {
     "data": {
      "text/plain": [
       "array([[0., 0., 0., 0., 0., 1., 0., 0., 0., 0.]])"
      ]
     },
     "execution_count": 45,
     "metadata": {},
     "output_type": "execute_result"
    }
   ],
   "source": [
    "#样例对应的类别的概率值\n",
    "forest_clf.predict_proba([some_digit])"
   ]
  },
  {
   "cell_type": "code",
   "execution_count": 46,
   "metadata": {},
   "outputs": [
    {
     "data": {
      "text/plain": [
       "array([0.86262747, 0.86239312, 0.87673151])"
      ]
     },
     "execution_count": 46,
     "metadata": {},
     "output_type": "execute_result"
    }
   ],
   "source": [
    "#交叉验证评估分类器\n",
    "cross_val_score(sgd_clf,X_train,y_train,cv=3,scoring=\"accuracy\")"
   ]
  },
  {
   "cell_type": "markdown",
   "metadata": {},
   "source": [
    "在所有测试折上，有86%的准确度`"
   ]
  },
  {
   "cell_type": "code",
   "execution_count": 48,
   "metadata": {},
   "outputs": [
    {
     "data": {
      "text/plain": [
       "array([0.910018  , 0.90784539, 0.90898635])"
      ]
     },
     "execution_count": 48,
     "metadata": {},
     "output_type": "execute_result"
    }
   ],
   "source": [
    "#将输入正则化\n",
    "from sklearn.preprocessing import StandardScaler\n",
    "scaler=StandardScaler()\n",
    "#正则化输入数据\n",
    "X_train_scaled=scaler.fit_transform(X_train.astype(np.float64))\n",
    "#3折交叉验证评估模型准确度\n",
    "cross_val_score(sgd_clf,X_train_scaled,y_train,cv=3,scoring=\"accuracy\")"
   ]
  },
  {
   "cell_type": "markdown",
   "metadata": {},
   "source": [
    "将输入数据正则化后，评估同一模型的准确度，达到90%"
   ]
  },
  {
   "cell_type": "markdown",
   "metadata": {},
   "source": [
    "# 误差分析"
   ]
  },
  {
   "cell_type": "markdown",
   "metadata": {},
   "source": [
    "若是实际项目，接下来的工作如下：  \n",
    "    探索准备数据的候选方案，尝试多种模型，把最好的几个模型列为入围名单，用GridSearchCV调试差参数，尽可能地自动化。  \n",
    "  \n",
    "假设已找到不错的模型，改善的方式是：分析模型产生的误差的类型"
   ]
  },
  {
   "cell_type": "code",
   "execution_count": 49,
   "metadata": {},
   "outputs": [
    {
     "data": {
      "text/plain": [
       "array([[5716,    2,   32,   11,   12,   53,   46,    7,   41,    3],\n",
       "       [   2, 6442,   44,   27,    6,   55,    7,   15,  132,   12],\n",
       "       [  57,   33, 5324,  101,   85,   26,   97,   56,  166,   13],\n",
       "       [  44,   39,  131, 5356,    3,  234,   35,   56,  136,   97],\n",
       "       [  18,   25,   36,    8, 5370,    9,   48,   34,   75,  219],\n",
       "       [  68,   36,   32,  198,   76, 4610,  104,   29,  173,   95],\n",
       "       [  31,   21,   50,    3,   41,   96, 5619,   10,   47,    0],\n",
       "       [  21,   22,   71,   30,   51,   12,    6, 5807,   15,  230],\n",
       "       [  49,  143,   68,  172,   17,  163,   56,   29, 5006,  148],\n",
       "       [  41,   30,   24,   88,  159,   39,    3,  204,   74, 5287]],\n",
       "      dtype=int64)"
      ]
     },
     "execution_count": 49,
     "metadata": {},
     "output_type": "execute_result"
    }
   ],
   "source": [
    "#检查混淆矩阵\n",
    "y_train_pred=cross_val_predict(sgd_clf,X_train_scaled,y_train,cv=3)\n",
    "conf_mx=confusion_matrix(y_train,y_train_pred)\n",
    "conf_mx"
   ]
  },
  {
   "cell_type": "code",
   "execution_count": 50,
   "metadata": {},
   "outputs": [
    {
     "data": {
      "text/plain": [
       "<matplotlib.image.AxesImage at 0x1277d440a58>"
      ]
     },
     "execution_count": 50,
     "metadata": {},
     "output_type": "execute_result"
    },
    {
     "data": {
      "image/png": "[encoded data removed]",
      "text/plain": [
       "<Figure size 288x288 with 1 Axes>"
      ]
     },
     "metadata": {
      "needs_background": "light"
     },
     "output_type": "display_data"
    }
   ],
   "source": [
    "#将混淆矩阵以图像的方式呈现\n",
    "plt.matshow(conf_mx,cmap=plt.cm.gray)"
   ]
  },
  {
   "cell_type": "markdown",
   "metadata": {},
   "source": [
    "图片在主对角线上意味着分类正确。  \n",
    "主对角线第六格的图片看起来要暗淡(其数值最小)，可能是数据集中数字6的图片比较少，  \n",
    "又或者是分类器对数字6的表现不如其他数字那么好。"
   ]
  },
  {
   "cell_type": "code",
   "execution_count": 51,
   "metadata": {},
   "outputs": [
    {
     "data": {
      "text/plain": [
       "<matplotlib.image.AxesImage at 0x12703dffb00>"
      ]
     },
     "execution_count": 51,
     "metadata": {},
     "output_type": "execute_result"
    },
    {
     "data": {
      "image/png": "[encoded data removed]",
      "text/plain": [
       "<Figure size 288x288 with 1 Axes>"
      ]
     },
     "metadata": {
      "needs_background": "light"
     },
     "output_type": "display_data"
    }
   ],
   "source": [
    "#为比较错误率，将混淆矩阵每个值除以相应类别的图片的总数目（每行代表真实类，每列代表预测类）\n",
    "row_sums=conf_mx.sum(axis=1,keepdims=True) #对每行横向按列求和\n",
    "norm_conf_mx=conf_mx/row_sums\n",
    "np.fill_diagonal(norm_conf_mx,0) #用0填充主对角线，只保留错误分类的数据\n",
    "plt.matshow(norm_conf_mx,cmap=plt.cm.gray)"
   ]
  },
  {
   "cell_type": "markdown",
   "metadata": {},
   "source": [
    "行代表实际类别，列代表预测类别  \n",
    "第8、9列(从0开始)比较亮，代表许多其他图片被误分成数字8或9  \n",
    "第8、9行表示数字8、9经常被误分成其他数字"
   ]
  },
  {
   "cell_type": "code",
   "execution_count": 52,
   "metadata": {},
   "outputs": [],
   "source": [
    "import matplotlib as mpl\n",
    "# EXTRA\n",
    "def plot_digits(instances, images_per_row=10, **options):\n",
    "    size = 28\n",
    "    images_per_row = min(len(instances), images_per_row)\n",
    "    images = [instance.reshape(size,size) for instance in instances]\n",
    "    n_rows = (len(instances) - 1) // images_per_row + 1\n",
    "    row_images = []\n",
    "    n_empty = n_rows * images_per_row - len(instances)\n",
    "    images.append(np.zeros((size, size * n_empty)))\n",
    "    for row in range(n_rows):\n",
    "        rimages = images[row * images_per_row : (row + 1) * images_per_row]\n",
    "        row_images.append(np.concatenate(rimages, axis=1))\n",
    "    image = np.concatenate(row_images, axis=0)\n",
    "    plt.imshow(image, cmap = mpl.cm.binary, **options)\n",
    "    plt.axis(\"off\")"
   ]
  },
  {
   "cell_type": "code",
   "execution_count": 53,
   "metadata": {},
   "outputs": [
    {
     "data": {
      "image/png": "[encoded data removed]",
      "text/plain": [
       "<Figure size 576x576 with 4 Axes>"
      ]
     },
     "metadata": {
      "needs_background": "light"
     },
     "output_type": "display_data"
    }
   ],
   "source": [
    "#画出3和5 的列子\n",
    "cl_a, cl_b = 3, 5\n",
    "X_aa = X_train[(y_train == cl_a) & (y_train_pred == cl_a)]\n",
    "X_ab = X_train[(y_train == cl_a) & (y_train_pred == cl_b)]\n",
    "X_ba = X_train[(y_train == cl_b) & (y_train_pred == cl_a)]\n",
    "X_bb = X_train[(y_train == cl_b) & (y_train_pred == cl_b)]\n",
    "plt.figure(figsize=(8,8))\n",
    "plt.subplot(221)\n",
    "plot_digits(X_aa[:25],images_per_row=5)\n",
    "plt.subplot(222)\n",
    "plot_digits(X_ab[:25],images_per_row=5)\n",
    "\n",
    "plt.subplot(223)\n",
    "plot_digits(X_ba[:25],images_per_row=5)\n",
    "plt.subplot(224)\n",
    "plot_digits(X_bb[:25],images_per_row=5)\n",
    "plt.show()"
   ]
  },
  {
   "cell_type": "markdown",
   "metadata": {},
   "source": [
    "# 多标签分类"
   ]
  },
  {
   "cell_type": "markdown",
   "metadata": {},
   "source": [
    "例如一个人脸识别器：如果对于同一张图片，它识别出几 个人，它应该做什么？当然它应该给每一个它识别出的人贴上一个标签。比方说，这个分类 器被训练成识别三个人脸，Alice，Bob，Charlie；然后当它被输入一张含有 Alice 和 Bob 的 图片，它应该输出 [1, 0, 1] （意思是：Alice 是，Bob 不是，Charlie 是）。这种输出多个二值标签的分类系统被叫做多标签分类系统"
   ]
  },
  {
   "cell_type": "code",
   "execution_count": 54,
   "metadata": {},
   "outputs": [
    {
     "data": {
      "text/plain": [
       "KNeighborsClassifier(algorithm='auto', leaf_size=30, metric='minkowski',\n",
       "           metric_params=None, n_jobs=1, n_neighbors=5, p=2,\n",
       "           weights='uniform')"
      ]
     },
     "execution_count": 54,
     "metadata": {},
     "output_type": "execute_result"
    }
   ],
   "source": [
    "#K近邻分类器测试多标签分类\n",
    "from sklearn.neighbors import KNeighborsClassifier\n",
    "y_train_large=(y_train>=7) #标签1(是否为大数)\n",
    "y_train_odd=(y_train%2==1) #标签2(是否是奇数)\n",
    "y_multilabel=np.c_[y_train_large,y_train_odd]\n",
    "knn_clf=KNeighborsClassifier()\n",
    "knn_clf.fit(X_train,y_multilabel) #拟合"
   ]
  },
  {
   "cell_type": "code",
   "execution_count": 55,
   "metadata": {},
   "outputs": [
    {
     "data": {
      "text/plain": [
       "array([[False,  True]])"
      ]
     },
     "execution_count": 55,
     "metadata": {},
     "output_type": "execute_result"
    }
   ],
   "source": [
    "knn_clf.predict([some_digit]) #somge_digit=5"
   ]
  },
  {
   "cell_type": "code",
   "execution_count": null,
   "metadata": {},
   "outputs": [],
   "source": [
    "#评估多标签分类器: 对每个个体标签去度量F1值，然后计算平均值（执行时间挺长）\n",
    "y_train_knn_pred=cross_val_predict(knn_clf,X_train,y_train,cv=3)\n",
    "f1_score(y_train,y_train_knn_pred,average=\"macro\")"
   ]
  },
  {
   "cell_type": "markdown",
   "metadata": {},
   "source": [
    "# 多输出分类"
   ]
  },
  {
   "cell_type": "markdown",
   "metadata": {},
   "source": [
    "多输出分类：是多标签分类的简单泛化，每个标签可以使多类别的(比如说，它可以有多于两个的可能值)"
   ]
  },
  {
   "cell_type": "markdown",
   "metadata": {},
   "source": [
    "建立去除图片噪声的分类器：    \n",
    "输入：混有噪声的图片  \n",
    "输出：干净的图片  \n",
    "该分类器的输出是多标签的(一个像素一个标签),并且每个标签有多个值(像素强度取值范围从0到255)"
   ]
  },
  {
   "cell_type": "markdown",
   "metadata": {},
   "source": [
    "分类和回归的界限是模糊的，按理说，预测一个像素的强度更像回归任务，而非一个分类任务"
   ]
  },
  {
   "cell_type": "code",
   "execution_count": null,
   "metadata": {},
   "outputs": [],
   "source": [
    "#从MNIST图片创建训练集和测试集,并添加噪声\n",
    "noise=np.randint(0,100,(len(X_train),784))\n",
    "X_train_mod=X_train+noise\n",
    "noise=np.randint(0,100,len(X_test),784)\n",
    "X_test_mod=X_test+noise"
   ]
  },
  {
   "cell_type": "code",
   "execution_count": null,
   "metadata": {},
   "outputs": [],
   "source": [
    "#新联分类器，清洁噪声\n",
    "knn_clf.fit(X_train_mod,y_train_mod)\n",
    "clean_digit=knn_clf.predict([X_test_mod[some_index]])"
   ]
  },
  {
   "cell_type": "code",
   "execution_count": null,
   "metadata": {},
   "outputs": [],
   "source": []
  }
 ],
 "metadata": {
  "kernelspec": {
   "display_name": "Python [conda env:root] *",
   "language": "python",
   "name": "conda-root-py"
  },
  "language_info": {
   "codemirror_mode": {
    "name": "ipython",
    "version": 3
   },
   "file_extension": ".py",
   "mimetype": "text/x-python",
   "name": "python",
   "nbconvert_exporter": "python",
   "pygments_lexer": "ipython3",
   "version": "3.7.0"
  }
 },
 "nbformat": 4,
 "nbformat_minor": 2
}
